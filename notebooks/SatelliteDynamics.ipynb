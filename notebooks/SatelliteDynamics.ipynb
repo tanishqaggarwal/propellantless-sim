{
 "cells": [
  {
   "cell_type": "markdown",
   "metadata": {},
   "source": [
    "## Dynamics"
   ]
  },
  {
   "cell_type": "markdown",
   "metadata": {},
   "source": [
    "In psim, the coordinates are just rectangular. We define the coordinates as follows:\n",
    "- $\\vec r^{ECI} = (r_1, r_2, r_3)$ is the position of the spacecraft COM in ECI.\n",
    "- The body frame of the spacecraft is defined with:\n",
    "  - The $x$-axis pointing from mass A ($m_A$) to mass B ($m_B$).\n",
    "  - We arbitrarily give at least one of the masses a small rectangular shape. We have the rectangle share a plane with the linkage between the two masses, and then define the surface normal to the rectangle that rotates $A$ to $B$ CCW as the $y$-axis of the body frame.\n",
    "  - The $z$-axis that completes the right-handed triad.\n",
    "\n",
    "$^{B}q^{ECI}$, or simply $q$, transforms ECI-frame vectors to body frame vectors. We'll denote the conjugate of this quaternion as $\\overline q$."
   ]
  },
  {
   "cell_type": "markdown",
   "metadata": {},
   "source": [
    "The Lagrangian is given by the translational kinetic energy of the spacecraft CM, the rotational kinetic energy about the CM, and the gravitational potential energy of the system:\n",
    "\n",
    "$$\\mathcal L = T - V = KE_{trans} + KE_{rot} - (- m_A G(\\vec r_A^{ECI}) - m_B G(\\vec r_B^{ECI}))$$\n",
    "\n",
    "Here, $\\vec r_A^{ECI}$ and $\\vec r_B^{ECI}$ are the vectors from the origin to the two masses, and $G$ is the gravitational potential function implicitly provided by GEOGRAV. Note that we are therefore implicitly assuming that no energy is stored in the tension of the rod connecting the two masses.\n",
    "\n",
    "Let's expand each of these terms. The translational kinetic energy is simply\n",
    "\n",
    "$$KE_{trans} = \\frac{1}{2} (m_A + m_B) |\\dot{\\vec r}^{ECI}|^2$$\n",
    "\n",
    "The rotational kinetic energy is encoded in the rate of change of the quaternion:\n",
    "\n",
    "$$KE_{rot} = \\frac{1}{2} I |\\vec \\omega|^2 = \\frac{m_B^2 + m_A^2}{m_A+m_B} d^2 |\\dot q \\circ \\overline q|^2$$\n",
    "\n",
    "Finally, $\\vec r_A^{ECI}$ and $\\vec r_B^{ECI}$ can be computed via $\\vec r$ and $q$ as follows:\n",
    "$$\\vec d^B = (d, 0, 0) \\ \\ \\ \\ \\ \\ \\ \\ \\vec d^{ECI} = q \\circ \\vec d^{B} \\circ \\overline q$$\n",
    "$$\\vec r_A^{ECI} = \\vec r^{ECI} - \\frac{m_B}{m_A + m_B} \\vec d^{ECI}$$\n",
    "$$\\vec r_B^{ECI} = \\vec r^{ECI} - \\frac{m_B}{m_A + m_B} \\vec d^{ECI}$$\n",
    "\n",
    "To produce the E-L equations, we will codify the above via SymPy and let it do the work. Our state is given by $x = [\\vec r \\ \\dot{\\vec r} \\ q \\ \\dot q]$, a total of 14 components.\n"
   ]
  },
  {
   "cell_type": "code",
   "execution_count": 1,
   "metadata": {},
   "outputs": [],
   "source": [
    "import sympy as sy\n",
    "from sympy.algebras.quaternion import Quaternion\n",
    "from sympy.physics.vector import dynamicsymbols"
   ]
  },
  {
   "cell_type": "code",
   "execution_count": 2,
   "metadata": {},
   "outputs": [
    {
     "output_type": "execute_result",
     "data": {
      "text/plain": [
       "0.5*d**2*(m_A**2*(Derivative(q0(t), t)**2 + Derivative(q1(t), t)**2 + Derivative(q2(t), t)**2 + Derivative(q3(t), t)**2) + m_B**2*(Derivative(q0(t), t)**2 + Derivative(q1(t), t)**2 + Derivative(q2(t), t)**2 + Derivative(q3(t), t)**2))/(m_A + m_B) + m_A*G(-m_B*(d*q0(t)**2 + d*q1(t)**2 - d*q2(t)**2 - d*q3(t)**2)/(m_A + m_B) + r1(t), -m_B*(2*d*q0(t)*q3(t) + 2*d*q1(t)*q2(t))/(m_A + m_B) + r2(t), -m_B*(-2*d*q0(t)*q2(t) + 2*d*q1(t)*q3(t))/(m_A + m_B) + r3(t)) + m_B*G(m_A*(d*q0(t)**2 + d*q1(t)**2 - d*q2(t)**2 - d*q3(t)**2)/(m_A + m_B) + r1(t), m_A*(2*d*q0(t)*q3(t) + 2*d*q1(t)*q2(t))/(m_A + m_B) + r2(t), m_A*(-2*d*q0(t)*q2(t) + 2*d*q1(t)*q3(t))/(m_A + m_B) + r3(t)) + (m_A + m_B)*(Derivative(r1(t), t)**2 + Derivative(r2(t), t)**2 + Derivative(r3(t), t)**2)/2"
      ],
      "text/latex": "$\\displaystyle \\frac{0.5 d^{2} \\left(m_{A}^{2} \\left(\\left(\\frac{d}{d t} \\operatorname{q_{0}}{\\left(t \\right)}\\right)^{2} + \\left(\\frac{d}{d t} \\operatorname{q_{1}}{\\left(t \\right)}\\right)^{2} + \\left(\\frac{d}{d t} \\operatorname{q_{2}}{\\left(t \\right)}\\right)^{2} + \\left(\\frac{d}{d t} \\operatorname{q_{3}}{\\left(t \\right)}\\right)^{2}\\right) + m_{B}^{2} \\left(\\left(\\frac{d}{d t} \\operatorname{q_{0}}{\\left(t \\right)}\\right)^{2} + \\left(\\frac{d}{d t} \\operatorname{q_{1}}{\\left(t \\right)}\\right)^{2} + \\left(\\frac{d}{d t} \\operatorname{q_{2}}{\\left(t \\right)}\\right)^{2} + \\left(\\frac{d}{d t} \\operatorname{q_{3}}{\\left(t \\right)}\\right)^{2}\\right)\\right)}{m_{A} + m_{B}} + m_{A} G{\\left(- \\frac{m_{B} \\left(d \\operatorname{q_{0}}^{2}{\\left(t \\right)} + d \\operatorname{q_{1}}^{2}{\\left(t \\right)} - d \\operatorname{q_{2}}^{2}{\\left(t \\right)} - d \\operatorname{q_{3}}^{2}{\\left(t \\right)}\\right)}{m_{A} + m_{B}} + \\operatorname{r_{1}}{\\left(t \\right)},- \\frac{m_{B} \\left(2 d \\operatorname{q_{0}}{\\left(t \\right)} \\operatorname{q_{3}}{\\left(t \\right)} + 2 d \\operatorname{q_{1}}{\\left(t \\right)} \\operatorname{q_{2}}{\\left(t \\right)}\\right)}{m_{A} + m_{B}} + \\operatorname{r_{2}}{\\left(t \\right)},- \\frac{m_{B} \\left(- 2 d \\operatorname{q_{0}}{\\left(t \\right)} \\operatorname{q_{2}}{\\left(t \\right)} + 2 d \\operatorname{q_{1}}{\\left(t \\right)} \\operatorname{q_{3}}{\\left(t \\right)}\\right)}{m_{A} + m_{B}} + \\operatorname{r_{3}}{\\left(t \\right)} \\right)} + m_{B} G{\\left(\\frac{m_{A} \\left(d \\operatorname{q_{0}}^{2}{\\left(t \\right)} + d \\operatorname{q_{1}}^{2}{\\left(t \\right)} - d \\operatorname{q_{2}}^{2}{\\left(t \\right)} - d \\operatorname{q_{3}}^{2}{\\left(t \\right)}\\right)}{m_{A} + m_{B}} + \\operatorname{r_{1}}{\\left(t \\right)},\\frac{m_{A} \\left(2 d \\operatorname{q_{0}}{\\left(t \\right)} \\operatorname{q_{3}}{\\left(t \\right)} + 2 d \\operatorname{q_{1}}{\\left(t \\right)} \\operatorname{q_{2}}{\\left(t \\right)}\\right)}{m_{A} + m_{B}} + \\operatorname{r_{2}}{\\left(t \\right)},\\frac{m_{A} \\left(- 2 d \\operatorname{q_{0}}{\\left(t \\right)} \\operatorname{q_{2}}{\\left(t \\right)} + 2 d \\operatorname{q_{1}}{\\left(t \\right)} \\operatorname{q_{3}}{\\left(t \\right)}\\right)}{m_{A} + m_{B}} + \\operatorname{r_{3}}{\\left(t \\right)} \\right)} + \\frac{\\left(m_{A} + m_{B}\\right) \\left(\\left(\\frac{d}{d t} \\operatorname{r_{1}}{\\left(t \\right)}\\right)^{2} + \\left(\\frac{d}{d t} \\operatorname{r_{2}}{\\left(t \\right)}\\right)^{2} + \\left(\\frac{d}{d t} \\operatorname{r_{3}}{\\left(t \\right)}\\right)^{2}\\right)}{2}$"
     },
     "metadata": {},
     "execution_count": 2
    }
   ],
   "source": [
    "q0,q1,q2,q3 = dynamicsymbols(\"q0 q1 q2 q3\")\n",
    "q0d,q1d,q2d,q3d = dynamicsymbols(\"q0 q1 q2 q3\", 1)\n",
    "q = Quaternion(q0, q1, q2, q3)\n",
    "qd = Quaternion(q0d, q1d, q2d, q3d)\n",
    "qc = q.inverse()\n",
    "\n",
    "r1,r2,r3 = dynamicsymbols(\"r1 r2 r3\")\n",
    "r1d,r2d,r3d = dynamicsymbols(\"r1 r2 r3\", 1)\n",
    "\n",
    "mA,mB,d = sy.symbols(\"m_A m_B d\")\n",
    "m = mA + mB\n",
    "\n",
    "w = (qd * qc).norm()\n",
    "rKE = (1/2) * (mA**2 + mB**2) / m * d**2 * w**2\n",
    "tKE = m * (r1d**2 + r2d**2 + r3d**2) / 2\n",
    "\n",
    "rKE = sy.simplify(rKE)\n",
    "rKE = rKE.collect([mA, mB]).subs({q0**2+q1**2+q2**2+q3**2:1})\n",
    "T = rKE + tKE\n",
    "\n",
    "dQ = Quaternion(0, d, 0, 0)\n",
    "rQ = Quaternion(0, r1, r2, r3)\n",
    "dECI = q * dQ * qc\n",
    "dECI = dECI.subs({q0**2+q1**2+q2**2+q3**2:1})\n",
    "rA = rQ - mB / m * dECI\n",
    "rB = rQ + mA / m * dECI\n",
    "\n",
    "G = sy.Function(\"G\")\n",
    "V = - (mA * G(rA.b, rA.c, rA.d) + mB * G(rB.b, rB.c, rB.d))\n",
    "\n",
    "L = T - V\n",
    "L"
   ]
  },
  {
   "cell_type": "markdown",
   "metadata": {},
   "source": [
    "Now let's produce an E-L equation for each independent coordinate."
   ]
  },
  {
   "cell_type": "code",
   "execution_count": 3,
   "metadata": {},
   "outputs": [],
   "source": [
    "from sympy.physics.mechanics import LagrangesMethod\n",
    "\n",
    "LM = LagrangesMethod(L, [r1,r2,r3,q0,q1,q2,q3])\n",
    "eqs = LM.form_lagranges_equations()\n",
    "for eq in eqs:\n",
    "    eq = sy.simplify(eq)"
   ]
  },
  {
   "cell_type": "code",
   "execution_count": 4,
   "metadata": {},
   "outputs": [],
   "source": [
    "# Remove a bunch of ugly derivatives from the expression\n",
    "\n",
    "a,b,c,x = map(sy.Wild, \"abcx\")\n",
    "gx = sy.Function(\"g_x\")\n",
    "gy = sy.Function(\"g_y\")\n",
    "gz = sy.Function(\"g_z\")\n",
    "\n",
    "simp_eqs = []\n",
    "for eq in eqs:\n",
    "    eq = eq.replace(sy.Subs(sy.Derivative(G(x,b,c),x), x, a), gx(a,b,c))\n",
    "    eq = eq.replace(sy.Subs(sy.Derivative(G(a,x,c),x), x, b), gy(a,b,c))\n",
    "    eq = eq.replace(sy.Subs(sy.Derivative(G(a,b,x),x), x, c), gz(a,b,c))\n",
    "    eq = eq.replace(mA + mB, sy.Symbol(\"m_T\"))\n",
    "    eq = sy.simplify(eq)\n",
    "    simp_eqs.append(eq)\n",
    "eqs = simp_eqs"
   ]
  },
  {
   "cell_type": "code",
   "execution_count": 5,
   "metadata": {
    "tags": []
   },
   "outputs": [],
   "source": [
    "# Collect argument expressions within the gravity calls\n",
    "\n",
    "grav_calls = set()\n",
    "for eq in eqs:\n",
    "    grav_calls.update(eq.find(gx(a,b,c)))\n",
    "    grav_calls.update(eq.find(gy(a,b,c)))\n",
    "    grav_calls.update(eq.find(gz(a,b,c)))\n",
    "\n",
    "args = set()\n",
    "for call in grav_calls:\n",
    "    for arg in call.args:\n",
    "        args.add(sy.simplify(arg))\n",
    "\n",
    "args = list(args)\n",
    "args.sort(key=sy.srepr)\n",
    "args = dict(zip([sy.Symbol(f\"c_{i}\") for i in range(len(args))], args))\n",
    "\n",
    "simp_eqs = []\n",
    "for eq in eqs:\n",
    "    for k,v in args.items():\n",
    "        eq = eq.replace(v, k)\n",
    "    simp_eqs.append(eq)\n",
    "\n",
    "# Replace all unique gravity calls with symbols\n",
    "simplegrav_calls = set()\n",
    "for eq in simp_eqs:\n",
    "    simplegrav_calls.update(eq.find(gx(a,b,c)))\n",
    "    simplegrav_calls.update(eq.find(gy(a,b,c)))\n",
    "    simplegrav_calls.update(eq.find(gz(a,b,c)))\n",
    "\n",
    "simplegrav_calls = list(simplegrav_calls)\n",
    "simplegrav_calls.sort(key=sy.srepr)\n",
    "calls = dict(zip([sy.Symbol(f\"g_{i}\") for i in range(len(simplegrav_calls))], simplegrav_calls))\n",
    "\n",
    "simp_eqs2 = []\n",
    "for eq in simp_eqs:\n",
    "    for k,v in calls.items():\n",
    "        eq = eq.replace(v, k)\n",
    "    simp_eqs2.append(eq)"
   ]
  },
  {
   "cell_type": "code",
   "execution_count": 6,
   "metadata": {},
   "outputs": [
    {
     "output_type": "stream",
     "name": "stdout",
     "text": [
      "c_0 :  (-2*d*m_A*(q0(t)*q2(t) - q1(t)*q3(t)) + m_T*r3(t))/m_T\nc_1 :  (-2*d*m_B*(q0(t)*q3(t) + q1(t)*q2(t)) + m_T*r2(t))/m_T\nc_2 :  (-d*m_B*(q0(t)**2 + q1(t)**2 - q2(t)**2 - q3(t)**2) + m_T*r1(t))/m_T\nc_3 :  (2*d*m_A*(q0(t)*q3(t) + q1(t)*q2(t)) + m_T*r2(t))/m_T\nc_4 :  (2*d*m_B*(q0(t)*q2(t) - q1(t)*q3(t)) + m_T*r3(t))/m_T\nc_5 :  (d*m_A*(q0(t)**2 + q1(t)**2 - q2(t)**2 - q3(t)**2) + m_T*r1(t))/m_T\n\ng_0 :  g_x(c_2, c_1, c_4)\ng_1 :  g_x(c_5, c_3, c_0)\ng_2 :  g_y(c_2, c_1, c_4)\ng_3 :  g_y(c_5, c_3, c_0)\ng_4 :  g_z(c_2, c_1, c_4)\ng_5 :  g_z(c_5, c_3, c_0)\n"
     ]
    }
   ],
   "source": [
    "# Print expressions so that we can move them to C++\n",
    "for k,v in args.items():\n",
    "    print(k, \": \", v)\n",
    "print()\n",
    "for k,v in calls.items():\n",
    "    print(k, \": \", v)"
   ]
  },
  {
   "cell_type": "code",
   "execution_count": 7,
   "metadata": {},
   "outputs": [],
   "source": [
    "x = [None]*7\n",
    "x[0],x[1],x[2] = dynamicsymbols(\"r1 r2 r3\", 2)\n",
    "x[3],x[4],x[5],x[6] = dynamicsymbols(\"q0 q1 q2 q3\", 2)"
   ]
  },
  {
   "cell_type": "code",
   "execution_count": 8,
   "metadata": {},
   "outputs": [],
   "source": [
    "# Solve for the second derivative\n",
    "\n",
    "solved_eqs = [sy.solve(simp_eqs2[i], x[i])[0] for i in range(len(eqs))]"
   ]
  },
  {
   "cell_type": "markdown",
   "metadata": {},
   "source": [
    "Finally, we've computed $\\frac{d}{dt} x$ as "
   ]
  },
  {
   "cell_type": "code",
   "execution_count": 9,
   "metadata": {},
   "outputs": [
    {
     "output_type": "execute_result",
     "data": {
      "text/plain": [
       "[(g_0*m_A + g_1*m_B)/m_T,\n",
       " (g_2*m_A + g_3*m_B)/m_T,\n",
       " (g_4*m_A + g_5*m_B)/m_T,\n",
       " 2.0*m_A*m_B*(-g_0*q0(t) + g_1*q0(t) - g_2*q3(t) + g_3*q3(t) + g_4*q2(t) - g_5*q2(t))/(d*(m_A**2 + m_B**2)),\n",
       " 2.0*m_A*m_B*(-g_0*q1(t) + g_1*q1(t) - g_2*q2(t) + g_3*q2(t) - g_4*q3(t) + g_5*q3(t))/(d*(m_A**2 + m_B**2)),\n",
       " 2.0*m_A*m_B*(g_0*q2(t) - g_1*q2(t) - g_2*q1(t) + g_3*q1(t) + g_4*q0(t) - g_5*q0(t))/(d*(m_A**2 + m_B**2)),\n",
       " 2.0*m_A*m_B*(g_0*q3(t) - g_1*q3(t) - g_2*q0(t) + g_3*q0(t) - g_4*q1(t) + g_5*q1(t))/(d*(m_A**2 + m_B**2))]"
      ]
     },
     "metadata": {},
     "execution_count": 9
    }
   ],
   "source": [
    "solved_eqs"
   ]
  }
 ],
 "metadata": {
  "kernelspec": {
   "name": "python3",
   "display_name": "Python 3.7.6 64-bit"
  },
  "language_info": {
   "codemirror_mode": {
    "name": "ipython",
    "version": 3
   },
   "file_extension": ".py",
   "mimetype": "text/x-python",
   "name": "python",
   "nbconvert_exporter": "python",
   "pygments_lexer": "ipython3",
   "version": "3.7.6"
  },
  "interpreter": {
   "hash": "aee8b7b246df8f9039afb4144a1f6fd8d2ca17a180786b69acc140d282b71a49"
  }
 },
 "nbformat": 4,
 "nbformat_minor": 4
}